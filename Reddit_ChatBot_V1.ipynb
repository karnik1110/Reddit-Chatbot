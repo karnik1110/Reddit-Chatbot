{
  "nbformat": 4,
  "nbformat_minor": 0,
  "metadata": {
    "colab": {
      "provenance": []
    },
    "kernelspec": {
      "name": "python3",
      "display_name": "Python 3"
    },
    "language_info": {
      "name": "python"
    },
    "accelerator": "GPU",
    "gpuClass": "standard"
  },
  "cells": [
    {
      "cell_type": "code",
      "execution_count": null,
      "metadata": {
        "id": "Jm-s4MJ8PSMB"
      },
      "outputs": [],
      "source": [
        "import pandas as pd"
      ]
    },
    {
      "cell_type": "code",
      "source": [
        "reddit_question = pd.read_csv(\"/content/drive/MyDrive/reddit_answers.csv\", delimiter= \";\")"
      ],
      "metadata": {
        "id": "37-1GkbIPmam"
      },
      "execution_count": null,
      "outputs": []
    },
    {
      "cell_type": "code",
      "source": [
        "len(reddit_question)"
      ],
      "metadata": {
        "id": "hx-1PaZIX1Nk",
        "colab": {
          "base_uri": "https://localhost:8080/"
        },
        "outputId": "2510c1fd-dd6f-468b-c575-081b3896f560"
      },
      "execution_count": null,
      "outputs": [
        {
          "output_type": "execute_result",
          "data": {
            "text/plain": [
              "5311088"
            ]
          },
          "metadata": {},
          "execution_count": 4
        }
      ]
    },
    {
      "cell_type": "code",
      "source": [
        "reddit_answer = reddit_question\n",
        "reddit_question = pd.read_csv(\"/content/drive/MyDrive/reddit_questions.csv\", delimiter = \";\") "
      ],
      "metadata": {
        "id": "ZO3bZxKFYaQv"
      },
      "execution_count": null,
      "outputs": []
    },
    {
      "cell_type": "code",
      "source": [
        "reddit_answer.rename(columns = {'q_id' : 'id'}, inplace = True)"
      ],
      "metadata": {
        "id": "6RE4K_ZbZdT3"
      },
      "execution_count": null,
      "outputs": []
    },
    {
      "cell_type": "code",
      "source": [
        "reddit_data  = reddit_question.merge(reddit_answer, how = \"left\", on = 'id')"
      ],
      "metadata": {
        "id": "pf1io3RqY6CL"
      },
      "execution_count": null,
      "outputs": []
    },
    {
      "cell_type": "code",
      "source": [
        "reddit_data"
      ],
      "metadata": {
        "colab": {
          "base_uri": "https://localhost:8080/",
          "height": 424
        },
        "id": "DWP8_YfoY8Dq",
        "outputId": "4e4f0d0b-be75-4cbf-901c-f20a9d5f81b6"
      },
      "execution_count": null,
      "outputs": [
        {
          "output_type": "execute_result",
          "data": {
            "text/plain": [
              "             id                                             text_x  votes_x  \\\n",
              "0        izucgz                        What's the purpose of life?        8   \n",
              "1        izucgz                        What's the purpose of life?        8   \n",
              "2        izucgz                        What's the purpose of life?        8   \n",
              "3        izucgz                        What's the purpose of life?        8   \n",
              "4        izucgz                        What's the purpose of life?        8   \n",
              "...         ...                                                ...      ...   \n",
              "5323037  a8w3qe  What's the largest amout of cash you've held i...     3258   \n",
              "5323038  a8w3qe  What's the largest amout of cash you've held i...     3258   \n",
              "5323039  a8w3qe  What's the largest amout of cash you've held i...     3258   \n",
              "5323040  a8w3qe  What's the largest amout of cash you've held i...     3258   \n",
              "5323041  a8w3qe  What's the largest amout of cash you've held i...     3258   \n",
              "\n",
              "            timestamp                      datetime  Unnamed: 0  \\\n",
              "0        1.601076e+09  Fri Sep 25 23:13:31 2020 UTC   1254705.0   \n",
              "1        1.601076e+09  Fri Sep 25 23:13:31 2020 UTC   1254706.0   \n",
              "2        1.601076e+09  Fri Sep 25 23:13:31 2020 UTC   1254707.0   \n",
              "3        1.601076e+09  Fri Sep 25 23:13:31 2020 UTC   1254708.0   \n",
              "4        1.601076e+09  Fri Sep 25 23:13:31 2020 UTC   1254709.0   \n",
              "...               ...                           ...         ...   \n",
              "5323037  1.545584e+09  Sun Dec 23 16:46:24 2018 UTC   2262525.0   \n",
              "5323038  1.545584e+09  Sun Dec 23 16:46:24 2018 UTC   2262526.0   \n",
              "5323039  1.545584e+09  Sun Dec 23 16:46:24 2018 UTC   2262527.0   \n",
              "5323040  1.545584e+09  Sun Dec 23 16:46:24 2018 UTC   2262528.0   \n",
              "5323041  1.545584e+09  Sun Dec 23 16:46:24 2018 UTC   2262529.0   \n",
              "\n",
              "                                                    text_y  votes_y  \n",
              "0                                                       42      4.0  \n",
              "1        idk. try to figure out how to be happy while w...      3.0  \n",
              "2             The purpose of life is to produce complexity      3.0  \n",
              "3        The same purpose that the first replicating mo...      3.0  \n",
              "4        Have fun and help others, change the world for...      3.0  \n",
              "...                                                    ...      ...  \n",
              "5323037  Once had a cool million in my hands. Shame it ...      2.0  \n",
              "5323038  $3,575. I sold my car and it was paid for in c...      2.0  \n",
              "5323039          EUR30k, making a down payment on a house.      2.0  \n",
              "5323040  Around $6,000. I was going go buy a vehicle aw...      2.0  \n",
              "5323041            $2500. Saved enough to buy my first car      2.0  \n",
              "\n",
              "[5323042 rows x 8 columns]"
            ],
            "text/html": [
              "\n",
              "  <div id=\"df-78dd1f10-52a8-43c7-87e8-894d8be4db00\">\n",
              "    <div class=\"colab-df-container\">\n",
              "      <div>\n",
              "<style scoped>\n",
              "    .dataframe tbody tr th:only-of-type {\n",
              "        vertical-align: middle;\n",
              "    }\n",
              "\n",
              "    .dataframe tbody tr th {\n",
              "        vertical-align: top;\n",
              "    }\n",
              "\n",
              "    .dataframe thead th {\n",
              "        text-align: right;\n",
              "    }\n",
              "</style>\n",
              "<table border=\"1\" class=\"dataframe\">\n",
              "  <thead>\n",
              "    <tr style=\"text-align: right;\">\n",
              "      <th></th>\n",
              "      <th>id</th>\n",
              "      <th>text_x</th>\n",
              "      <th>votes_x</th>\n",
              "      <th>timestamp</th>\n",
              "      <th>datetime</th>\n",
              "      <th>Unnamed: 0</th>\n",
              "      <th>text_y</th>\n",
              "      <th>votes_y</th>\n",
              "    </tr>\n",
              "  </thead>\n",
              "  <tbody>\n",
              "    <tr>\n",
              "      <th>0</th>\n",
              "      <td>izucgz</td>\n",
              "      <td>What's the purpose of life?</td>\n",
              "      <td>8</td>\n",
              "      <td>1.601076e+09</td>\n",
              "      <td>Fri Sep 25 23:13:31 2020 UTC</td>\n",
              "      <td>1254705.0</td>\n",
              "      <td>42</td>\n",
              "      <td>4.0</td>\n",
              "    </tr>\n",
              "    <tr>\n",
              "      <th>1</th>\n",
              "      <td>izucgz</td>\n",
              "      <td>What's the purpose of life?</td>\n",
              "      <td>8</td>\n",
              "      <td>1.601076e+09</td>\n",
              "      <td>Fri Sep 25 23:13:31 2020 UTC</td>\n",
              "      <td>1254706.0</td>\n",
              "      <td>idk. try to figure out how to be happy while w...</td>\n",
              "      <td>3.0</td>\n",
              "    </tr>\n",
              "    <tr>\n",
              "      <th>2</th>\n",
              "      <td>izucgz</td>\n",
              "      <td>What's the purpose of life?</td>\n",
              "      <td>8</td>\n",
              "      <td>1.601076e+09</td>\n",
              "      <td>Fri Sep 25 23:13:31 2020 UTC</td>\n",
              "      <td>1254707.0</td>\n",
              "      <td>The purpose of life is to produce complexity</td>\n",
              "      <td>3.0</td>\n",
              "    </tr>\n",
              "    <tr>\n",
              "      <th>3</th>\n",
              "      <td>izucgz</td>\n",
              "      <td>What's the purpose of life?</td>\n",
              "      <td>8</td>\n",
              "      <td>1.601076e+09</td>\n",
              "      <td>Fri Sep 25 23:13:31 2020 UTC</td>\n",
              "      <td>1254708.0</td>\n",
              "      <td>The same purpose that the first replicating mo...</td>\n",
              "      <td>3.0</td>\n",
              "    </tr>\n",
              "    <tr>\n",
              "      <th>4</th>\n",
              "      <td>izucgz</td>\n",
              "      <td>What's the purpose of life?</td>\n",
              "      <td>8</td>\n",
              "      <td>1.601076e+09</td>\n",
              "      <td>Fri Sep 25 23:13:31 2020 UTC</td>\n",
              "      <td>1254709.0</td>\n",
              "      <td>Have fun and help others, change the world for...</td>\n",
              "      <td>3.0</td>\n",
              "    </tr>\n",
              "    <tr>\n",
              "      <th>...</th>\n",
              "      <td>...</td>\n",
              "      <td>...</td>\n",
              "      <td>...</td>\n",
              "      <td>...</td>\n",
              "      <td>...</td>\n",
              "      <td>...</td>\n",
              "      <td>...</td>\n",
              "      <td>...</td>\n",
              "    </tr>\n",
              "    <tr>\n",
              "      <th>5323037</th>\n",
              "      <td>a8w3qe</td>\n",
              "      <td>What's the largest amout of cash you've held i...</td>\n",
              "      <td>3258</td>\n",
              "      <td>1.545584e+09</td>\n",
              "      <td>Sun Dec 23 16:46:24 2018 UTC</td>\n",
              "      <td>2262525.0</td>\n",
              "      <td>Once had a cool million in my hands. Shame it ...</td>\n",
              "      <td>2.0</td>\n",
              "    </tr>\n",
              "    <tr>\n",
              "      <th>5323038</th>\n",
              "      <td>a8w3qe</td>\n",
              "      <td>What's the largest amout of cash you've held i...</td>\n",
              "      <td>3258</td>\n",
              "      <td>1.545584e+09</td>\n",
              "      <td>Sun Dec 23 16:46:24 2018 UTC</td>\n",
              "      <td>2262526.0</td>\n",
              "      <td>$3,575. I sold my car and it was paid for in c...</td>\n",
              "      <td>2.0</td>\n",
              "    </tr>\n",
              "    <tr>\n",
              "      <th>5323039</th>\n",
              "      <td>a8w3qe</td>\n",
              "      <td>What's the largest amout of cash you've held i...</td>\n",
              "      <td>3258</td>\n",
              "      <td>1.545584e+09</td>\n",
              "      <td>Sun Dec 23 16:46:24 2018 UTC</td>\n",
              "      <td>2262527.0</td>\n",
              "      <td>EUR30k, making a down payment on a house.</td>\n",
              "      <td>2.0</td>\n",
              "    </tr>\n",
              "    <tr>\n",
              "      <th>5323040</th>\n",
              "      <td>a8w3qe</td>\n",
              "      <td>What's the largest amout of cash you've held i...</td>\n",
              "      <td>3258</td>\n",
              "      <td>1.545584e+09</td>\n",
              "      <td>Sun Dec 23 16:46:24 2018 UTC</td>\n",
              "      <td>2262528.0</td>\n",
              "      <td>Around $6,000. I was going go buy a vehicle aw...</td>\n",
              "      <td>2.0</td>\n",
              "    </tr>\n",
              "    <tr>\n",
              "      <th>5323041</th>\n",
              "      <td>a8w3qe</td>\n",
              "      <td>What's the largest amout of cash you've held i...</td>\n",
              "      <td>3258</td>\n",
              "      <td>1.545584e+09</td>\n",
              "      <td>Sun Dec 23 16:46:24 2018 UTC</td>\n",
              "      <td>2262529.0</td>\n",
              "      <td>$2500. Saved enough to buy my first car</td>\n",
              "      <td>2.0</td>\n",
              "    </tr>\n",
              "  </tbody>\n",
              "</table>\n",
              "<p>5323042 rows × 8 columns</p>\n",
              "</div>\n",
              "      <button class=\"colab-df-convert\" onclick=\"convertToInteractive('df-78dd1f10-52a8-43c7-87e8-894d8be4db00')\"\n",
              "              title=\"Convert this dataframe to an interactive table.\"\n",
              "              style=\"display:none;\">\n",
              "        \n",
              "  <svg xmlns=\"http://www.w3.org/2000/svg\" height=\"24px\"viewBox=\"0 0 24 24\"\n",
              "       width=\"24px\">\n",
              "    <path d=\"M0 0h24v24H0V0z\" fill=\"none\"/>\n",
              "    <path d=\"M18.56 5.44l.94 2.06.94-2.06 2.06-.94-2.06-.94-.94-2.06-.94 2.06-2.06.94zm-11 1L8.5 8.5l.94-2.06 2.06-.94-2.06-.94L8.5 2.5l-.94 2.06-2.06.94zm10 10l.94 2.06.94-2.06 2.06-.94-2.06-.94-.94-2.06-.94 2.06-2.06.94z\"/><path d=\"M17.41 7.96l-1.37-1.37c-.4-.4-.92-.59-1.43-.59-.52 0-1.04.2-1.43.59L10.3 9.45l-7.72 7.72c-.78.78-.78 2.05 0 2.83L4 21.41c.39.39.9.59 1.41.59.51 0 1.02-.2 1.41-.59l7.78-7.78 2.81-2.81c.8-.78.8-2.07 0-2.86zM5.41 20L4 18.59l7.72-7.72 1.47 1.35L5.41 20z\"/>\n",
              "  </svg>\n",
              "      </button>\n",
              "      \n",
              "  <style>\n",
              "    .colab-df-container {\n",
              "      display:flex;\n",
              "      flex-wrap:wrap;\n",
              "      gap: 12px;\n",
              "    }\n",
              "\n",
              "    .colab-df-convert {\n",
              "      background-color: #E8F0FE;\n",
              "      border: none;\n",
              "      border-radius: 50%;\n",
              "      cursor: pointer;\n",
              "      display: none;\n",
              "      fill: #1967D2;\n",
              "      height: 32px;\n",
              "      padding: 0 0 0 0;\n",
              "      width: 32px;\n",
              "    }\n",
              "\n",
              "    .colab-df-convert:hover {\n",
              "      background-color: #E2EBFA;\n",
              "      box-shadow: 0px 1px 2px rgba(60, 64, 67, 0.3), 0px 1px 3px 1px rgba(60, 64, 67, 0.15);\n",
              "      fill: #174EA6;\n",
              "    }\n",
              "\n",
              "    [theme=dark] .colab-df-convert {\n",
              "      background-color: #3B4455;\n",
              "      fill: #D2E3FC;\n",
              "    }\n",
              "\n",
              "    [theme=dark] .colab-df-convert:hover {\n",
              "      background-color: #434B5C;\n",
              "      box-shadow: 0px 1px 3px 1px rgba(0, 0, 0, 0.15);\n",
              "      filter: drop-shadow(0px 1px 2px rgba(0, 0, 0, 0.3));\n",
              "      fill: #FFFFFF;\n",
              "    }\n",
              "  </style>\n",
              "\n",
              "      <script>\n",
              "        const buttonEl =\n",
              "          document.querySelector('#df-78dd1f10-52a8-43c7-87e8-894d8be4db00 button.colab-df-convert');\n",
              "        buttonEl.style.display =\n",
              "          google.colab.kernel.accessAllowed ? 'block' : 'none';\n",
              "\n",
              "        async function convertToInteractive(key) {\n",
              "          const element = document.querySelector('#df-78dd1f10-52a8-43c7-87e8-894d8be4db00');\n",
              "          const dataTable =\n",
              "            await google.colab.kernel.invokeFunction('convertToInteractive',\n",
              "                                                     [key], {});\n",
              "          if (!dataTable) return;\n",
              "\n",
              "          const docLinkHtml = 'Like what you see? Visit the ' +\n",
              "            '<a target=\"_blank\" href=https://colab.research.google.com/notebooks/data_table.ipynb>data table notebook</a>'\n",
              "            + ' to learn more about interactive tables.';\n",
              "          element.innerHTML = '';\n",
              "          dataTable['output_type'] = 'display_data';\n",
              "          await google.colab.output.renderOutput(dataTable, element);\n",
              "          const docLink = document.createElement('div');\n",
              "          docLink.innerHTML = docLinkHtml;\n",
              "          element.appendChild(docLink);\n",
              "        }\n",
              "      </script>\n",
              "    </div>\n",
              "  </div>\n",
              "  "
            ]
          },
          "metadata": {},
          "execution_count": 12
        }
      ]
    },
    {
      "cell_type": "code",
      "source": [
        "reddit_data = reddit_data.rename(columns = {'text_x' : 'question', 'text_y' : 'answer'})\n",
        "reddit_data = reddit_data.drop(['votes_x', 'timestamp','datetime', 'Unnamed: 0', 'votes_y'], axis =1)"
      ],
      "metadata": {
        "id": "4dKaka9iZxCF"
      },
      "execution_count": null,
      "outputs": []
    },
    {
      "cell_type": "code",
      "source": [
        "reddit_data"
      ],
      "metadata": {
        "colab": {
          "base_uri": "https://localhost:8080/",
          "height": 1068
        },
        "id": "V7yd0oEHaTMN",
        "outputId": "512abe02-c6b2-4099-d94f-1aa86cde6f6f"
      },
      "execution_count": null,
      "outputs": [
        {
          "output_type": "execute_result",
          "data": {
            "text/plain": [
              "             id                                           question  \\\n",
              "0        izucgz                        What's the purpose of life?   \n",
              "1        izucgz                        What's the purpose of life?   \n",
              "2        izucgz                        What's the purpose of life?   \n",
              "3        izucgz                        What's the purpose of life?   \n",
              "4        izucgz                        What's the purpose of life?   \n",
              "...         ...                                                ...   \n",
              "5323037  a8w3qe  What's the largest amout of cash you've held i...   \n",
              "5323038  a8w3qe  What's the largest amout of cash you've held i...   \n",
              "5323039  a8w3qe  What's the largest amout of cash you've held i...   \n",
              "5323040  a8w3qe  What's the largest amout of cash you've held i...   \n",
              "5323041  a8w3qe  What's the largest amout of cash you've held i...   \n",
              "\n",
              "                                                    answer  \n",
              "0                                                       42  \n",
              "1        idk. try to figure out how to be happy while w...  \n",
              "2             The purpose of life is to produce complexity  \n",
              "3        The same purpose that the first replicating mo...  \n",
              "4        Have fun and help others, change the world for...  \n",
              "...                                                    ...  \n",
              "5323037  Once had a cool million in my hands. Shame it ...  \n",
              "5323038  $3,575. I sold my car and it was paid for in c...  \n",
              "5323039          EUR30k, making a down payment on a house.  \n",
              "5323040  Around $6,000. I was going go buy a vehicle aw...  \n",
              "5323041            $2500. Saved enough to buy my first car  \n",
              "\n",
              "[5323042 rows x 3 columns]"
            ],
            "text/html": [
              "\n",
              "  <div id=\"df-16539510-6248-4b9a-9daf-8937a1de7db0\">\n",
              "    <div class=\"colab-df-container\">\n",
              "      <div>\n",
              "<style scoped>\n",
              "    .dataframe tbody tr th:only-of-type {\n",
              "        vertical-align: middle;\n",
              "    }\n",
              "\n",
              "    .dataframe tbody tr th {\n",
              "        vertical-align: top;\n",
              "    }\n",
              "\n",
              "    .dataframe thead th {\n",
              "        text-align: right;\n",
              "    }\n",
              "</style>\n",
              "<table border=\"1\" class=\"dataframe\">\n",
              "  <thead>\n",
              "    <tr style=\"text-align: right;\">\n",
              "      <th></th>\n",
              "      <th>id</th>\n",
              "      <th>question</th>\n",
              "      <th>answer</th>\n",
              "    </tr>\n",
              "  </thead>\n",
              "  <tbody>\n",
              "    <tr>\n",
              "      <th>0</th>\n",
              "      <td>izucgz</td>\n",
              "      <td>What's the purpose of life?</td>\n",
              "      <td>42</td>\n",
              "    </tr>\n",
              "    <tr>\n",
              "      <th>1</th>\n",
              "      <td>izucgz</td>\n",
              "      <td>What's the purpose of life?</td>\n",
              "      <td>idk. try to figure out how to be happy while w...</td>\n",
              "    </tr>\n",
              "    <tr>\n",
              "      <th>2</th>\n",
              "      <td>izucgz</td>\n",
              "      <td>What's the purpose of life?</td>\n",
              "      <td>The purpose of life is to produce complexity</td>\n",
              "    </tr>\n",
              "    <tr>\n",
              "      <th>3</th>\n",
              "      <td>izucgz</td>\n",
              "      <td>What's the purpose of life?</td>\n",
              "      <td>The same purpose that the first replicating mo...</td>\n",
              "    </tr>\n",
              "    <tr>\n",
              "      <th>4</th>\n",
              "      <td>izucgz</td>\n",
              "      <td>What's the purpose of life?</td>\n",
              "      <td>Have fun and help others, change the world for...</td>\n",
              "    </tr>\n",
              "    <tr>\n",
              "      <th>...</th>\n",
              "      <td>...</td>\n",
              "      <td>...</td>\n",
              "      <td>...</td>\n",
              "    </tr>\n",
              "    <tr>\n",
              "      <th>5323037</th>\n",
              "      <td>a8w3qe</td>\n",
              "      <td>What's the largest amout of cash you've held i...</td>\n",
              "      <td>Once had a cool million in my hands. Shame it ...</td>\n",
              "    </tr>\n",
              "    <tr>\n",
              "      <th>5323038</th>\n",
              "      <td>a8w3qe</td>\n",
              "      <td>What's the largest amout of cash you've held i...</td>\n",
              "      <td>$3,575. I sold my car and it was paid for in c...</td>\n",
              "    </tr>\n",
              "    <tr>\n",
              "      <th>5323039</th>\n",
              "      <td>a8w3qe</td>\n",
              "      <td>What's the largest amout of cash you've held i...</td>\n",
              "      <td>EUR30k, making a down payment on a house.</td>\n",
              "    </tr>\n",
              "    <tr>\n",
              "      <th>5323040</th>\n",
              "      <td>a8w3qe</td>\n",
              "      <td>What's the largest amout of cash you've held i...</td>\n",
              "      <td>Around $6,000. I was going go buy a vehicle aw...</td>\n",
              "    </tr>\n",
              "    <tr>\n",
              "      <th>5323041</th>\n",
              "      <td>a8w3qe</td>\n",
              "      <td>What's the largest amout of cash you've held i...</td>\n",
              "      <td>$2500. Saved enough to buy my first car</td>\n",
              "    </tr>\n",
              "  </tbody>\n",
              "</table>\n",
              "<p>5323042 rows × 3 columns</p>\n",
              "</div>\n",
              "      <button class=\"colab-df-convert\" onclick=\"convertToInteractive('df-16539510-6248-4b9a-9daf-8937a1de7db0')\"\n",
              "              title=\"Convert this dataframe to an interactive table.\"\n",
              "              style=\"display:none;\">\n",
              "        \n",
              "  <svg xmlns=\"http://www.w3.org/2000/svg\" height=\"24px\"viewBox=\"0 0 24 24\"\n",
              "       width=\"24px\">\n",
              "    <path d=\"M0 0h24v24H0V0z\" fill=\"none\"/>\n",
              "    <path d=\"M18.56 5.44l.94 2.06.94-2.06 2.06-.94-2.06-.94-.94-2.06-.94 2.06-2.06.94zm-11 1L8.5 8.5l.94-2.06 2.06-.94-2.06-.94L8.5 2.5l-.94 2.06-2.06.94zm10 10l.94 2.06.94-2.06 2.06-.94-2.06-.94-.94-2.06-.94 2.06-2.06.94z\"/><path d=\"M17.41 7.96l-1.37-1.37c-.4-.4-.92-.59-1.43-.59-.52 0-1.04.2-1.43.59L10.3 9.45l-7.72 7.72c-.78.78-.78 2.05 0 2.83L4 21.41c.39.39.9.59 1.41.59.51 0 1.02-.2 1.41-.59l7.78-7.78 2.81-2.81c.8-.78.8-2.07 0-2.86zM5.41 20L4 18.59l7.72-7.72 1.47 1.35L5.41 20z\"/>\n",
              "  </svg>\n",
              "      </button>\n",
              "      \n",
              "  <style>\n",
              "    .colab-df-container {\n",
              "      display:flex;\n",
              "      flex-wrap:wrap;\n",
              "      gap: 12px;\n",
              "    }\n",
              "\n",
              "    .colab-df-convert {\n",
              "      background-color: #E8F0FE;\n",
              "      border: none;\n",
              "      border-radius: 50%;\n",
              "      cursor: pointer;\n",
              "      display: none;\n",
              "      fill: #1967D2;\n",
              "      height: 32px;\n",
              "      padding: 0 0 0 0;\n",
              "      width: 32px;\n",
              "    }\n",
              "\n",
              "    .colab-df-convert:hover {\n",
              "      background-color: #E2EBFA;\n",
              "      box-shadow: 0px 1px 2px rgba(60, 64, 67, 0.3), 0px 1px 3px 1px rgba(60, 64, 67, 0.15);\n",
              "      fill: #174EA6;\n",
              "    }\n",
              "\n",
              "    [theme=dark] .colab-df-convert {\n",
              "      background-color: #3B4455;\n",
              "      fill: #D2E3FC;\n",
              "    }\n",
              "\n",
              "    [theme=dark] .colab-df-convert:hover {\n",
              "      background-color: #434B5C;\n",
              "      box-shadow: 0px 1px 3px 1px rgba(0, 0, 0, 0.15);\n",
              "      filter: drop-shadow(0px 1px 2px rgba(0, 0, 0, 0.3));\n",
              "      fill: #FFFFFF;\n",
              "    }\n",
              "  </style>\n",
              "\n",
              "      <script>\n",
              "        const buttonEl =\n",
              "          document.querySelector('#df-16539510-6248-4b9a-9daf-8937a1de7db0 button.colab-df-convert');\n",
              "        buttonEl.style.display =\n",
              "          google.colab.kernel.accessAllowed ? 'block' : 'none';\n",
              "\n",
              "        async function convertToInteractive(key) {\n",
              "          const element = document.querySelector('#df-16539510-6248-4b9a-9daf-8937a1de7db0');\n",
              "          const dataTable =\n",
              "            await google.colab.kernel.invokeFunction('convertToInteractive',\n",
              "                                                     [key], {});\n",
              "          if (!dataTable) return;\n",
              "\n",
              "          const docLinkHtml = 'Like what you see? Visit the ' +\n",
              "            '<a target=\"_blank\" href=https://colab.research.google.com/notebooks/data_table.ipynb>data table notebook</a>'\n",
              "            + ' to learn more about interactive tables.';\n",
              "          element.innerHTML = '';\n",
              "          dataTable['output_type'] = 'display_data';\n",
              "          await google.colab.output.renderOutput(dataTable, element);\n",
              "          const docLink = document.createElement('div');\n",
              "          docLink.innerHTML = docLinkHtml;\n",
              "          element.appendChild(docLink);\n",
              "        }\n",
              "      </script>\n",
              "    </div>\n",
              "  </div>\n",
              "  "
            ]
          },
          "metadata": {},
          "execution_count": 15
        },
        {
          "output_type": "stream",
          "name": "stdout",
          "text": [
            "Warning: total number of rows (5323042) exceeds max_rows (20000). Limiting to first (20000) rows.\n"
          ]
        }
      ]
    },
    {
      "cell_type": "code",
      "source": [
        "reddit_data['question'] = reddit_data['question'].astype('str')\n",
        "reddit_data['answer'] = reddit_data['answer'].astype('str')\n",
        "\n"
      ],
      "metadata": {
        "id": "hi-chIUuaZ59"
      },
      "execution_count": null,
      "outputs": []
    },
    {
      "cell_type": "code",
      "source": [
        "import re\n",
        "def preprocess_text(text):\n",
        "    text = text.lower()\n",
        "    text = re.sub(r'[^a-zA-Z0-9 ]+', '', text)\n",
        "    text = re.sub(r'\\s+', ' ', text).strip()\n",
        "    return text\n",
        "\n",
        "reddit_data['question'] = reddit_data['question'].apply(preprocess_text)\n",
        "reddit_data['answer'] = reddit_data['answer'].apply(preprocess_text)"
      ],
      "metadata": {
        "id": "d0Gt1vdAb1Zu"
      },
      "execution_count": null,
      "outputs": []
    },
    {
      "cell_type": "code",
      "source": [
        "reddit_data_sep = reddit_data.groupby('question')['answer'].apply(lambda x: '[SEP]'.join(x)).reset_index()"
      ],
      "metadata": {
        "id": "MslPffVtdCgZ"
      },
      "execution_count": null,
      "outputs": []
    },
    {
      "cell_type": "code",
      "source": [
        "# Split the data into training and testing sets\n",
        "train_df = reddit_data_sep.sample(frac=0.8, random_state=0)\n",
        "test_df = reddit_data_sep.drop(train_df.index)"
      ],
      "metadata": {
        "id": "5j2IyMIddjYV"
      },
      "execution_count": null,
      "outputs": []
    },
    {
      "cell_type": "code",
      "source": [
        "!pip install transformers"
      ],
      "metadata": {
        "colab": {
          "base_uri": "https://localhost:8080/"
        },
        "id": "cO7zSXn4dyx3",
        "outputId": "a4a5f698-4bc2-4234-d117-df18c0e02ff7"
      },
      "execution_count": null,
      "outputs": [
        {
          "output_type": "stream",
          "name": "stdout",
          "text": [
            "Looking in indexes: https://pypi.org/simple, https://us-python.pkg.dev/colab-wheels/public/simple/\n",
            "Collecting transformers\n",
            "  Downloading transformers-4.27.4-py3-none-any.whl (6.8 MB)\n",
            "\u001b[2K     \u001b[90m━━━━━━━━━━━━━━━━━━━━━━━━━━━━━━━━━━━━━━━━\u001b[0m \u001b[32m6.8/6.8 MB\u001b[0m \u001b[31m67.1 MB/s\u001b[0m eta \u001b[36m0:00:00\u001b[0m\n",
            "\u001b[?25hCollecting tokenizers!=0.11.3,<0.14,>=0.11.1\n",
            "  Downloading tokenizers-0.13.3-cp39-cp39-manylinux_2_17_x86_64.manylinux2014_x86_64.whl (7.8 MB)\n",
            "\u001b[2K     \u001b[90m━━━━━━━━━━━━━━━━━━━━━━━━━━━━━━━━━━━━━━━━\u001b[0m \u001b[32m7.8/7.8 MB\u001b[0m \u001b[31m109.4 MB/s\u001b[0m eta \u001b[36m0:00:00\u001b[0m\n",
            "\u001b[?25hRequirement already satisfied: requests in /usr/local/lib/python3.9/dist-packages (from transformers) (2.27.1)\n",
            "Requirement already satisfied: regex!=2019.12.17 in /usr/local/lib/python3.9/dist-packages (from transformers) (2022.10.31)\n",
            "Requirement already satisfied: tqdm>=4.27 in /usr/local/lib/python3.9/dist-packages (from transformers) (4.65.0)\n",
            "Requirement already satisfied: numpy>=1.17 in /usr/local/lib/python3.9/dist-packages (from transformers) (1.22.4)\n",
            "Collecting huggingface-hub<1.0,>=0.11.0\n",
            "  Downloading huggingface_hub-0.13.4-py3-none-any.whl (200 kB)\n",
            "\u001b[2K     \u001b[90m━━━━━━━━━━━━━━━━━━━━━━━━━━━━━━━━━━━━━━\u001b[0m \u001b[32m200.1/200.1 kB\u001b[0m \u001b[31m25.7 MB/s\u001b[0m eta \u001b[36m0:00:00\u001b[0m\n",
            "\u001b[?25hRequirement already satisfied: pyyaml>=5.1 in /usr/local/lib/python3.9/dist-packages (from transformers) (6.0)\n",
            "Requirement already satisfied: filelock in /usr/local/lib/python3.9/dist-packages (from transformers) (3.10.7)\n",
            "Requirement already satisfied: packaging>=20.0 in /usr/local/lib/python3.9/dist-packages (from transformers) (23.0)\n",
            "Requirement already satisfied: typing-extensions>=3.7.4.3 in /usr/local/lib/python3.9/dist-packages (from huggingface-hub<1.0,>=0.11.0->transformers) (4.5.0)\n",
            "Requirement already satisfied: certifi>=2017.4.17 in /usr/local/lib/python3.9/dist-packages (from requests->transformers) (2022.12.7)\n",
            "Requirement already satisfied: charset-normalizer~=2.0.0 in /usr/local/lib/python3.9/dist-packages (from requests->transformers) (2.0.12)\n",
            "Requirement already satisfied: idna<4,>=2.5 in /usr/local/lib/python3.9/dist-packages (from requests->transformers) (3.4)\n",
            "Requirement already satisfied: urllib3<1.27,>=1.21.1 in /usr/local/lib/python3.9/dist-packages (from requests->transformers) (1.26.15)\n",
            "Installing collected packages: tokenizers, huggingface-hub, transformers\n",
            "Successfully installed huggingface-hub-0.13.4 tokenizers-0.13.3 transformers-4.27.4\n"
          ]
        }
      ]
    },
    {
      "cell_type": "code",
      "source": [
        "import transformers\n",
        "\n",
        "# Load the pre-trained BERT tokenizer\n",
        "tokenizer = transformers.BertTokenizer.from_pretrained('bert-base-uncased')\n",
        "\n",
        "# Tokenize the training and testing data\n",
        "train_inputs = tokenizer.batch_encode_plus(train_df['question'].tolist(), max_length=64, pad_to_max_length=True, return_attention_mask=True)\n",
        "train_labels = tokenizer.batch_encode_plus(train_df['answer'].tolist(), max_length=64, pad_to_max_length=True, return_attention_mask=True)\n",
        "\n",
        "test_inputs = tokenizer.batch_encode_plus(test_df['question'].tolist(), max_length=64, pad_to_max_length=True, return_attention_mask=True)\n",
        "test_labels = tokenizer.batch_encode_plus(test_df['answer'].tolist(), max_length=64, pad_to_max_length=True, return_attention_mask=True)"
      ],
      "metadata": {
        "colab": {
          "base_uri": "https://localhost:8080/",
          "height": 308
        },
        "id": "L13hTBCpduFM",
        "outputId": "54543d07-a816-4f9c-b8b3-ac66143c97cf"
      },
      "execution_count": null,
      "outputs": [
        {
          "output_type": "stream",
          "name": "stderr",
          "text": [
            "Truncation was not explicitly activated but `max_length` is provided a specific value, please use `truncation=True` to explicitly truncate examples to max length. Defaulting to 'longest_first' truncation strategy. If you encode pairs of sequences (GLUE-style) with the tokenizer you can select this strategy more precisely by providing a specific strategy to `truncation`.\n",
            "/usr/local/lib/python3.9/dist-packages/transformers/tokenization_utils_base.py:2346: FutureWarning: The `pad_to_max_length` argument is deprecated and will be removed in a future version, use `padding=True` or `padding='longest'` to pad to the longest sequence in the batch, or use `padding='max_length'` to pad to a max length. In this case, you can give a specific length with `max_length` (e.g. `max_length=45`) or leave max_length to None to pad to the maximal input size of the model (e.g. 512 for Bert).\n",
            "  warnings.warn(\n"
          ]
        },
        {
          "output_type": "error",
          "ename": "NameError",
          "evalue": "ignored",
          "traceback": [
            "\u001b[0;31m---------------------------------------------------------------------------\u001b[0m",
            "\u001b[0;31mNameError\u001b[0m                                 Traceback (most recent call last)",
            "\u001b[0;32m<ipython-input-29-bed5008c6930>\u001b[0m in \u001b[0;36m<cell line: 14>\u001b[0;34m()\u001b[0m\n\u001b[1;32m     12\u001b[0m \u001b[0;34m\u001b[0m\u001b[0m\n\u001b[1;32m     13\u001b[0m \u001b[0;31m# Convert the tokenized data to tensors\u001b[0m\u001b[0;34m\u001b[0m\u001b[0;34m\u001b[0m\u001b[0m\n\u001b[0;32m---> 14\u001b[0;31m \u001b[0mtrain_input_ids\u001b[0m \u001b[0;34m=\u001b[0m \u001b[0mtorch\u001b[0m\u001b[0;34m.\u001b[0m\u001b[0mtensor\u001b[0m\u001b[0;34m(\u001b[0m\u001b[0mtrain_inputs\u001b[0m\u001b[0;34m[\u001b[0m\u001b[0;34m'input_ids'\u001b[0m\u001b[0;34m]\u001b[0m\u001b[0;34m)\u001b[0m\u001b[0;34m\u001b[0m\u001b[0;34m\u001b[0m\u001b[0m\n\u001b[0m\u001b[1;32m     15\u001b[0m \u001b[0mtrain_attention_mask\u001b[0m \u001b[0;34m=\u001b[0m \u001b[0mtorch\u001b[0m\u001b[0;34m.\u001b[0m\u001b[0mtensor\u001b[0m\u001b[0;34m(\u001b[0m\u001b[0mtrain_inputs\u001b[0m\u001b[0;34m[\u001b[0m\u001b[0;34m'attention_mask'\u001b[0m\u001b[0;34m]\u001b[0m\u001b[0;34m)\u001b[0m\u001b[0;34m\u001b[0m\u001b[0;34m\u001b[0m\u001b[0m\n\u001b[1;32m     16\u001b[0m \u001b[0mtrain_labels\u001b[0m \u001b[0;34m=\u001b[0m \u001b[0mtorch\u001b[0m\u001b[0;34m.\u001b[0m\u001b[0mtensor\u001b[0m\u001b[0;34m(\u001b[0m\u001b[0mtrain_labels\u001b[0m\u001b[0;34m[\u001b[0m\u001b[0;34m'input_ids'\u001b[0m\u001b[0;34m]\u001b[0m\u001b[0;34m)\u001b[0m\u001b[0;34m\u001b[0m\u001b[0;34m\u001b[0m\u001b[0m\n",
            "\u001b[0;31mNameError\u001b[0m: name 'torch' is not defined"
          ]
        }
      ]
    },
    {
      "cell_type": "code",
      "source": [
        "\n",
        "# Convert the tokenized data to tensors\n",
        "train_input_ids = torch.tensor(train_inputs['input_ids'])\n",
        "train_attention_mask = torch.tensor(train_inputs['attention_mask'])\n",
        "train_labels = torch.tensor(train_labels['input_ids'])\n",
        "\n",
        "test_input_ids = torch.tensor(test_inputs['input_ids'])\n",
        "test_attention_mask = torch.tensor(test_inputs['attention_mask'])\n",
        "test_labels = torch.tensor(test_labels['input_ids'])"
      ],
      "metadata": {
        "id": "bqvzqZcQdxFe"
      },
      "execution_count": null,
      "outputs": []
    }
  ]
}